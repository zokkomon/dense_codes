{
 "cells": [
  {
   "cell_type": "code",
   "execution_count": 1,
   "metadata": {},
   "outputs": [
    {
     "ename": "ModuleNotFoundError",
     "evalue": "No module named 'torch'",
     "output_type": "error",
     "traceback": [
      "\u001b[0;31m---------------------------------------------------------------------------\u001b[0m",
      "\u001b[0;31mModuleNotFoundError\u001b[0m                       Traceback (most recent call last)",
      "Cell \u001b[0;32mIn[1], line 1\u001b[0m\n\u001b[0;32m----> 1\u001b[0m \u001b[38;5;28;01mimport\u001b[39;00m \u001b[38;5;21;01mtorch\u001b[39;00m\n\u001b[1;32m      2\u001b[0m \u001b[38;5;66;03m# import tensorflow as tf\u001b[39;00m\n\u001b[1;32m      3\u001b[0m \u001b[38;5;66;03m# import tensorflow_io as tfio\u001b[39;00m\n\u001b[1;32m      4\u001b[0m \u001b[38;5;66;03m# import matplotlib.pyplot as plt\u001b[39;00m\n",
      "\u001b[0;31mModuleNotFoundError\u001b[0m: No module named 'torch'"
     ]
    }
   ],
   "source": [
    "import torch\n",
    "# import tensorflow as tf\n",
    "# import tensorflow_io as tfio\n",
    "# import matplotlib.pyplot as plt"
   ]
  },
  {
   "cell_type": "markdown",
   "metadata": {},
   "source": [
    "# 2.Build Data Loading Function"
   ]
  },
  {
   "cell_type": "markdown",
   "metadata": {},
   "source": [
    "### 2.1 Load Data"
   ]
  },
  {
   "cell_type": "code",
   "execution_count": 3,
   "metadata": {},
   "outputs": [],
   "source": [
    "CAPUCHIN = os.path.join('audio','data','Parsed_Capuchinbird_Clips','XC3776-0.wav')\n",
    "NOT_CAPUCHIN = os.path.join('audio','data','Parsed_Not_Capuchinbird_Clips','afternoon-birds-song-in-forest-0.wav')"
   ]
  },
  {
   "cell_type": "code",
   "execution_count": 4,
   "metadata": {},
   "outputs": [
    {
     "data": {
      "text/plain": [
       "'audio/data/Parsed_Capuchinbird_Clips/XC3776-0.wav'"
      ]
     },
     "execution_count": 4,
     "metadata": {},
     "output_type": "execute_result"
    }
   ],
   "source": [
    "CAPUCHIN"
   ]
  },
  {
   "cell_type": "markdown",
   "metadata": {},
   "source": [
    "### 2.2 Build Dataloading WAV function"
   ]
  },
  {
   "cell_type": "code",
   "execution_count": 5,
   "metadata": {},
   "outputs": [],
   "source": [
    "def load_wav_16k_mono(file):\n",
    "    # Load Encoded wav file\n",
    "    file_contents = tf.io.read_file(file)\n",
    "    # Decode wav(tensor by its channels)\n",
    "    wav, sample_rate = tf.audio.decode_wav(file_contents)\n",
    "    #Remove trailing axis\n",
    "    wav = tf.squeeze(wav,axis=-1)\n",
    "    sample_rate = tf.cast(sample_rate,dtype=tf.int64)\n",
    "    # Goes from 44100Hz to 16000hz - amplitude of the audio\n",
    "    wav = tfio.audio.resample(wav, rate_in=sample_rate, rate_out=16000)\n",
    "    return wav"
   ]
  },
  {
   "cell_type": "code",
   "execution_count": 6,
   "metadata": {},
   "outputs": [
    {
     "name": "stderr",
     "output_type": "stream",
     "text": [
      "2023-07-04 04:10:41.172880: I tensorflow/compiler/xla/stream_executor/rocm/rocm_gpu_executor.cc:843] successful NUMA node read from SysFS had negative value (-1), but there must be at least one NUMA node, so returning NUMA node zero\n",
      "2023-07-04 04:10:44.336159: I tensorflow/compiler/xla/stream_executor/rocm/rocm_gpu_executor.cc:843] successful NUMA node read from SysFS had negative value (-1), but there must be at least one NUMA node, so returning NUMA node zero\n",
      "2023-07-04 04:10:44.336252: I tensorflow/compiler/xla/stream_executor/rocm/rocm_gpu_executor.cc:843] successful NUMA node read from SysFS had negative value (-1), but there must be at least one NUMA node, so returning NUMA node zero\n",
      "2023-07-04 04:10:44.336283: I tensorflow/core/common_runtime/gpu/gpu_device.cc:1990] Ignoring visible gpu device (device: 0, name: Radeon RX 560 Series, pci bus id: 0000:01:00.0) with AMDGPU version : gfx803. The supported AMDGPU versions are gfx1030, gfx900, gfx906, gfx908, gfx90a.\n",
      "2023-07-04 04:10:44.339472: I tensorflow/core/platform/cpu_feature_guard.cc:193] This TensorFlow binary is optimized with oneAPI Deep Neural Network Library (oneDNN) to use the following CPU instructions in performance-critical operations:  AVX2 FMA\n",
      "To enable them in other operations, rebuild TensorFlow with the appropriate compiler flags.\n",
      "2023-07-04 04:10:44.385175: I tensorflow/core/common_runtime/gpu_fusion_pass.cc:507] ROCm Fusion is enabled.\n",
      "2023-07-04 04:10:44.392574: I tensorflow/core/common_runtime/gpu_fusion_pass.cc:507] ROCm Fusion is enabled.\n",
      "2023-07-04 04:10:44.399748: I tensorflow/core/common_runtime/gpu_fusion_pass.cc:507] ROCm Fusion is enabled.\n",
      "2023-07-04 04:10:44.407559: I tensorflow/core/common_runtime/gpu_fusion_pass.cc:507] ROCm Fusion is enabled.\n",
      "2023-07-04 04:10:44.410762: I tensorflow/core/common_runtime/gpu_fusion_pass.cc:507] ROCm Fusion is enabled.\n",
      "2023-07-04 04:10:44.414151: I tensorflow/core/common_runtime/gpu_fusion_pass.cc:507] ROCm Fusion is enabled.\n",
      "2023-07-04 04:10:44.418101: I tensorflow/core/common_runtime/gpu_fusion_pass.cc:507] ROCm Fusion is enabled.\n",
      "2023-07-04 04:10:44.419768: I tensorflow/core/common_runtime/gpu_fusion_pass.cc:507] ROCm Fusion is enabled.\n"
     ]
    },
    {
     "ename": "NotImplementedError",
     "evalue": "in user code:\n\n    File \"/home/zok/joker/.jok/lib/python3.10/site-packages/tensorflow_io/python/ops/audio_ops.py\", line 405, in f\n        return core_ops.io_audio_resample(\n    File \"/home/zok/joker/.jok/lib/python3.10/site-packages/tensorflow_io/python/ops/__init__.py\", line 88, in __getattr__\n        return getattr(self._load(), attrb)\n    File \"/home/zok/joker/.jok/lib/python3.10/site-packages/tensorflow_io/python/ops/__init__.py\", line 84, in _load\n        self._mod = _load_library(self._library)\n    File \"/home/zok/joker/.jok/lib/python3.10/site-packages/tensorflow_io/python/ops/__init__.py\", line 69, in _load_library\n        raise NotImplementedError(\n\n    NotImplementedError: unable to open file: libtensorflow_io.so, from paths: ['/home/zok/joker/.jok/lib/python3.10/site-packages/tensorflow_io/python/ops/libtensorflow_io.so']\n    caused by: ['/home/zok/joker/.jok/lib/python3.10/site-packages/tensorflow_io/python/ops/libtensorflow_io.so: undefined symbol: _ZTIN10tensorflow2io20InputStreamInterfaceE']\n",
     "output_type": "error",
     "traceback": [
      "\u001b[0;31m---------------------------------------------------------------------------\u001b[0m",
      "\u001b[0;31mNotImplementedError\u001b[0m                       Traceback (most recent call last)",
      "Cell \u001b[0;32mIn[6], line 1\u001b[0m\n\u001b[0;32m----> 1\u001b[0m wave \u001b[39m=\u001b[39m load_wav_16k_mono(CAPUCHIN)\n\u001b[1;32m      2\u001b[0m nwave \u001b[39m=\u001b[39m load_wav_16k_mono(NOT_CAPUCHIN)\n",
      "Cell \u001b[0;32mIn[5], line 10\u001b[0m, in \u001b[0;36mload_wav_16k_mono\u001b[0;34m(file)\u001b[0m\n\u001b[1;32m      8\u001b[0m sample_rate \u001b[39m=\u001b[39m tf\u001b[39m.\u001b[39mcast(sample_rate,dtype\u001b[39m=\u001b[39mtf\u001b[39m.\u001b[39mint64)\n\u001b[1;32m      9\u001b[0m \u001b[39m# Goes from 44100Hz to 16000hz - amplitude of the audio\u001b[39;00m\n\u001b[0;32m---> 10\u001b[0m wav \u001b[39m=\u001b[39m tfio\u001b[39m.\u001b[39;49maudio\u001b[39m.\u001b[39;49mresample(wav, rate_in\u001b[39m=\u001b[39;49msample_rate, rate_out\u001b[39m=\u001b[39;49m\u001b[39m16000\u001b[39;49m)\n\u001b[1;32m     11\u001b[0m \u001b[39mreturn\u001b[39;00m wav\n",
      "File \u001b[0;32m~/joker/.jok/lib/python3.10/site-packages/tensorflow_io/python/ops/audio_ops.py:409\u001b[0m, in \u001b[0;36mresample\u001b[0;34m(input, rate_in, rate_out, name)\u001b[0m\n\u001b[1;32m    404\u001b[0m \u001b[39mdef\u001b[39;00m \u001b[39mf\u001b[39m(i):\n\u001b[1;32m    405\u001b[0m     \u001b[39mreturn\u001b[39;00m core_ops\u001b[39m.\u001b[39mio_audio_resample(\n\u001b[1;32m    406\u001b[0m         i, rate_in\u001b[39m=\u001b[39mrate_in, rate_out\u001b[39m=\u001b[39mrate_out, name\u001b[39m=\u001b[39mname\n\u001b[1;32m    407\u001b[0m     )\n\u001b[0;32m--> 409\u001b[0m value \u001b[39m=\u001b[39m tf\u001b[39m.\u001b[39;49mvectorized_map(f, \u001b[39minput\u001b[39;49m)\n\u001b[1;32m    411\u001b[0m \u001b[39mdef\u001b[39;00m \u001b[39mg1\u001b[39m():\n\u001b[1;32m    412\u001b[0m     \u001b[39mreturn\u001b[39;00m tf\u001b[39m.\u001b[39msqueeze(value, [\u001b[39m0\u001b[39m, \u001b[39m-\u001b[39m\u001b[39m1\u001b[39m])\n",
      "File \u001b[0;32m~/joker/.jok/lib/python3.10/site-packages/tensorflow/python/ops/parallel_for/control_flow_ops.py:565\u001b[0m, in \u001b[0;36mvectorized_map\u001b[0;34m(fn, elems, fallback_to_while_loop, warn)\u001b[0m\n\u001b[1;32m    562\u001b[0m \u001b[39melse\u001b[39;00m:\n\u001b[1;32m    563\u001b[0m   batch_size \u001b[39m=\u001b[39m \u001b[39mmax\u001b[39m(static_first_dims)\n\u001b[0;32m--> 565\u001b[0m \u001b[39mreturn\u001b[39;00m pfor(\n\u001b[1;32m    566\u001b[0m     loop_fn,\n\u001b[1;32m    567\u001b[0m     batch_size,\n\u001b[1;32m    568\u001b[0m     fallback_to_while_loop\u001b[39m=\u001b[39;49mfallback_to_while_loop,\n\u001b[1;32m    569\u001b[0m     warn\u001b[39m=\u001b[39;49mwarn)\n",
      "File \u001b[0;32m~/joker/.jok/lib/python3.10/site-packages/tensorflow/python/ops/parallel_for/control_flow_ops.py:214\u001b[0m, in \u001b[0;36mpfor\u001b[0;34m(loop_fn, iters, fallback_to_while_loop, parallel_iterations, warn)\u001b[0m\n\u001b[1;32m    211\u001b[0m     def_function\u001b[39m.\u001b[39mrun_functions_eagerly(\u001b[39mFalse\u001b[39;00m)\n\u001b[1;32m    212\u001b[0m   f \u001b[39m=\u001b[39m def_function\u001b[39m.\u001b[39mfunction(f)\n\u001b[0;32m--> 214\u001b[0m outputs \u001b[39m=\u001b[39m f()\n\u001b[1;32m    215\u001b[0m \u001b[39mif\u001b[39;00m functions_run_eagerly \u001b[39mis\u001b[39;00m \u001b[39mnot\u001b[39;00m \u001b[39mNone\u001b[39;00m:\n\u001b[1;32m    216\u001b[0m   def_function\u001b[39m.\u001b[39mrun_functions_eagerly(functions_run_eagerly)\n",
      "File \u001b[0;32m~/joker/.jok/lib/python3.10/site-packages/tensorflow/python/util/traceback_utils.py:153\u001b[0m, in \u001b[0;36mfilter_traceback.<locals>.error_handler\u001b[0;34m(*args, **kwargs)\u001b[0m\n\u001b[1;32m    151\u001b[0m \u001b[39mexcept\u001b[39;00m \u001b[39mException\u001b[39;00m \u001b[39mas\u001b[39;00m e:\n\u001b[1;32m    152\u001b[0m   filtered_tb \u001b[39m=\u001b[39m _process_traceback_frames(e\u001b[39m.\u001b[39m__traceback__)\n\u001b[0;32m--> 153\u001b[0m   \u001b[39mraise\u001b[39;00m e\u001b[39m.\u001b[39mwith_traceback(filtered_tb) \u001b[39mfrom\u001b[39;00m \u001b[39mNone\u001b[39;00m\n\u001b[1;32m    154\u001b[0m \u001b[39mfinally\u001b[39;00m:\n\u001b[1;32m    155\u001b[0m   \u001b[39mdel\u001b[39;00m filtered_tb\n",
      "File \u001b[0;32m/tmp/__autograph_generated_file_rrfombr.py:17\u001b[0m, in \u001b[0;36mouter_factory.<locals>.inner_factory.<locals>.tf__f\u001b[0;34m()\u001b[0m\n\u001b[1;32m     15\u001b[0m \u001b[39mtry\u001b[39;00m:\n\u001b[1;32m     16\u001b[0m     do_return \u001b[39m=\u001b[39m \u001b[39mTrue\u001b[39;00m\n\u001b[0;32m---> 17\u001b[0m     retval_ \u001b[39m=\u001b[39m ag__\u001b[39m.\u001b[39mconverted_call(ag__\u001b[39m.\u001b[39mld(_pfor_impl), (ag__\u001b[39m.\u001b[39mld(loop_fn), ag__\u001b[39m.\u001b[39mld(iters)), \u001b[39mdict\u001b[39m(fallback_to_while_loop\u001b[39m=\u001b[39mag__\u001b[39m.\u001b[39mld(fallback_to_while_loop), parallel_iterations\u001b[39m=\u001b[39mag__\u001b[39m.\u001b[39mld(parallel_iterations), warn\u001b[39m=\u001b[39mag__\u001b[39m.\u001b[39mld(warn)), fscope)\n\u001b[1;32m     18\u001b[0m \u001b[39mexcept\u001b[39;00m:\n\u001b[1;32m     19\u001b[0m     do_return \u001b[39m=\u001b[39m \u001b[39mFalse\u001b[39;00m\n",
      "File \u001b[0;32m~/joker/.jok/lib/python3.10/site-packages/tensorflow_io/python/ops/audio_ops.py:405\u001b[0m, in \u001b[0;36mresample.<locals>.f\u001b[0;34m(i)\u001b[0m\n\u001b[1;32m    404\u001b[0m \u001b[39mdef\u001b[39;00m \u001b[39mf\u001b[39m(i):\n\u001b[0;32m--> 405\u001b[0m     \u001b[39mreturn\u001b[39;00m core_ops\u001b[39m.\u001b[39;49mio_audio_resample(\n\u001b[1;32m    406\u001b[0m         i, rate_in\u001b[39m=\u001b[39mrate_in, rate_out\u001b[39m=\u001b[39mrate_out, name\u001b[39m=\u001b[39mname\n\u001b[1;32m    407\u001b[0m     )\n",
      "File \u001b[0;32m~/joker/.jok/lib/python3.10/site-packages/tensorflow_io/python/ops/__init__.py:88\u001b[0m, in \u001b[0;36mLazyLoader.__getattr__\u001b[0;34m(self, attrb)\u001b[0m\n\u001b[1;32m     87\u001b[0m \u001b[39mdef\u001b[39;00m \u001b[39m__getattr__\u001b[39m(\u001b[39mself\u001b[39m, attrb):\n\u001b[0;32m---> 88\u001b[0m     \u001b[39mreturn\u001b[39;00m \u001b[39mgetattr\u001b[39m(\u001b[39mself\u001b[39;49m\u001b[39m.\u001b[39;49m_load(), attrb)\n",
      "File \u001b[0;32m~/joker/.jok/lib/python3.10/site-packages/tensorflow_io/python/ops/__init__.py:84\u001b[0m, in \u001b[0;36mLazyLoader._load\u001b[0;34m(self)\u001b[0m\n\u001b[1;32m     82\u001b[0m \u001b[39mdef\u001b[39;00m \u001b[39m_load\u001b[39m(\u001b[39mself\u001b[39m):\n\u001b[1;32m     83\u001b[0m     \u001b[39mif\u001b[39;00m \u001b[39mself\u001b[39m\u001b[39m.\u001b[39m_mod \u001b[39mis\u001b[39;00m \u001b[39mNone\u001b[39;00m:\n\u001b[0;32m---> 84\u001b[0m         \u001b[39mself\u001b[39m\u001b[39m.\u001b[39m_mod \u001b[39m=\u001b[39m _load_library(\u001b[39mself\u001b[39;49m\u001b[39m.\u001b[39;49m_library)\n\u001b[1;32m     85\u001b[0m     \u001b[39mreturn\u001b[39;00m \u001b[39mself\u001b[39m\u001b[39m.\u001b[39m_mod\n",
      "File \u001b[0;32m~/joker/.jok/lib/python3.10/site-packages/tensorflow_io/python/ops/__init__.py:69\u001b[0m, in \u001b[0;36m_load_library\u001b[0;34m(filename, lib)\u001b[0m\n\u001b[1;32m     67\u001b[0m     \u001b[39mexcept\u001b[39;00m (tf\u001b[39m.\u001b[39merrors\u001b[39m.\u001b[39mNotFoundError, \u001b[39mOSError\u001b[39;00m) \u001b[39mas\u001b[39;00m e:\n\u001b[1;32m     68\u001b[0m         errs\u001b[39m.\u001b[39mappend(\u001b[39mstr\u001b[39m(e))\n\u001b[0;32m---> 69\u001b[0m \u001b[39mraise\u001b[39;00m \u001b[39mNotImplementedError\u001b[39;00m(\n\u001b[1;32m     70\u001b[0m     \u001b[39m\"\u001b[39m\u001b[39munable to open file: \u001b[39m\u001b[39m\"\u001b[39m\n\u001b[1;32m     71\u001b[0m     \u001b[39m+\u001b[39m \u001b[39mf\u001b[39m\u001b[39m\"\u001b[39m\u001b[39m{\u001b[39;00mfilename\u001b[39m}\u001b[39;00m\u001b[39m, from paths: \u001b[39m\u001b[39m{\u001b[39;00mfilenames\u001b[39m}\u001b[39;00m\u001b[39m\\n\u001b[39;00m\u001b[39mcaused by: \u001b[39m\u001b[39m{\u001b[39;00merrs\u001b[39m}\u001b[39;00m\u001b[39m\"\u001b[39m\n\u001b[1;32m     72\u001b[0m )\n",
      "\u001b[0;31mNotImplementedError\u001b[0m: in user code:\n\n    File \"/home/zok/joker/.jok/lib/python3.10/site-packages/tensorflow_io/python/ops/audio_ops.py\", line 405, in f\n        return core_ops.io_audio_resample(\n    File \"/home/zok/joker/.jok/lib/python3.10/site-packages/tensorflow_io/python/ops/__init__.py\", line 88, in __getattr__\n        return getattr(self._load(), attrb)\n    File \"/home/zok/joker/.jok/lib/python3.10/site-packages/tensorflow_io/python/ops/__init__.py\", line 84, in _load\n        self._mod = _load_library(self._library)\n    File \"/home/zok/joker/.jok/lib/python3.10/site-packages/tensorflow_io/python/ops/__init__.py\", line 69, in _load_library\n        raise NotImplementedError(\n\n    NotImplementedError: unable to open file: libtensorflow_io.so, from paths: ['/home/zok/joker/.jok/lib/python3.10/site-packages/tensorflow_io/python/ops/libtensorflow_io.so']\n    caused by: ['/home/zok/joker/.jok/lib/python3.10/site-packages/tensorflow_io/python/ops/libtensorflow_io.so: undefined symbol: _ZTIN10tensorflow2io20InputStreamInterfaceE']\n"
     ]
    }
   ],
   "source": [
    "wave = load_wav_16k_mono(CAPUCHIN)\n",
    "nwave = load_wav_16k_mono(NOT_CAPUCHIN)"
   ]
  },
  {
   "cell_type": "code",
   "execution_count": null,
   "metadata": {},
   "outputs": [],
   "source": []
  }
 ],
 "metadata": {
  "kernelspec": {
   "display_name": ".joker",
   "language": "python",
   "name": ".joker"
  },
  "language_info": {
   "codemirror_mode": {
    "name": "ipython",
    "version": 3
   },
   "file_extension": ".py",
   "mimetype": "text/x-python",
   "name": "python",
   "nbconvert_exporter": "python",
   "pygments_lexer": "ipython3",
   "version": "3.10.6"
  }
 },
 "nbformat": 4,
 "nbformat_minor": 2
}
