{
 "cells": [
  {
   "cell_type": "code",
   "execution_count": 2,
   "id": "e3904dba",
   "metadata": {},
   "outputs": [
    {
     "name": "stderr",
     "output_type": "stream",
     "text": [
      "2023-07-15 19:10:57.916578: I tensorflow/core/platform/cpu_feature_guard.cc:193] This TensorFlow binary is optimized with oneAPI Deep Neural Network Library (oneDNN) to use the following CPU instructions in performance-critical operations:  AVX2 FMA\n",
      "To enable them in other operations, rebuild TensorFlow with the appropriate compiler flags.\n"
     ]
    }
   ],
   "source": [
    "import torch\n",
    "import torch.nn as nn\n",
    "import torch.optim as optim\n",
    "import torchvision\n",
    "import torchvision.transforms as transforms\n",
    "import torchvision.datasets as datasets\n",
    "from torch.utils.data import DataLoader\n",
    "from torch.utils.tensorboard import SummaryWriter"
   ]
  },
  {
   "cell_type": "code",
   "execution_count": 3,
   "id": "b30f4f30",
   "metadata": {},
   "outputs": [],
   "source": [
    "class Discriminator(nn.Module):\n",
    "    def __init__(self,img_channels,filters_size):\n",
    "        super(Discriminator,self).__init__()\n",
    "        self.disc = nn.Sequential(\n",
    "            # input: N x channels_img x 64 x 64\n",
    "            nn.Conv2d(\n",
    "                img_channels,filters_size,kernel_size=4,stride=2,padding=1\n",
    "            ), # 32*32\n",
    "            nn.LeakyReLU(0.2),\n",
    "            self._block(filters_size,filters_size*2,4,2,1), #16*16\n",
    "            self._block(filters_size*2,filters_size*4,4,2,1), #8*8\n",
    "            self._block(filters_size*4,filters_size*8,4,2,1), #4*4\n",
    "            nn.Conv2d(filters_size*8, 1, kernel_size=4, stride=2, padding=0, bias=False),#1*1\n",
    "            nn.Sigmoid()\n",
    "        )\n",
    "        \n",
    "    def _block(self,in_channels,out_channels,kernel_size,stride,padding):\n",
    "        return nn.Sequential(\n",
    "        nn.Conv2d(in_channels,\n",
    "                  out_channels,\n",
    "                  kernel_size,\n",
    "                  stride,\n",
    "                  padding,\n",
    "                  bias=False),\n",
    "        nn.BatchNorm2d(out_channels),\n",
    "        nn.LeakyReLU(0.2)\n",
    "        )\n",
    "    \n",
    "    def forward(self,x):\n",
    "        return self.disc(x)"
   ]
  },
  {
   "cell_type": "code",
   "execution_count": 4,
   "id": "169ac076",
   "metadata": {},
   "outputs": [],
   "source": [
    "class Generator(nn.Module):\n",
    "    def __init__(self,latent_space,img_channels,filter_size):\n",
    "        super(Generator,self).__init__()\n",
    "        self.gen = nn.Sequential(\n",
    "            # Input n*latent_space*1*1\n",
    "            self._block(latent_space,filter_size*16,4,1,0), #n*f_g*16*4*4\n",
    "            self._block(filter_size*16,filter_size*8,4,2,1), #8\n",
    "            self._block(filter_size*8,filter_size*4,4,2,1), #16\n",
    "            self._block(filter_size*4,filter_size*2,4,2,1), #32\n",
    "            nn.ConvTranspose2d(\n",
    "                filter_size*2, img_channels, kernel_size=4, stride=2, padding=1, bias=False\n",
    "            ),\n",
    "            # Output: N x channels_img x 64 x 64\n",
    "            nn.Tanh() #[-1,1]\n",
    "        )\n",
    "        \n",
    "    def _block(self,in_channels,out_channels,kernel_size,stride,padding):\n",
    "        return nn.Sequential(\n",
    "        nn.ConvTranspose2d(in_channels,\n",
    "                  out_channels,\n",
    "                  kernel_size,\n",
    "                  stride,\n",
    "                  padding,\n",
    "                  bias=False),\n",
    "        nn.BatchNorm2d(out_channels),\n",
    "        nn.ReLU(0.2)\n",
    "        )\n",
    "    \n",
    "    def forward(self,x):\n",
    "        return self.gen(x)"
   ]
  },
  {
   "cell_type": "code",
   "execution_count": 5,
   "id": "c75c1667",
   "metadata": {},
   "outputs": [],
   "source": [
    "# custom weights initialization called on ``netG`` and ``netD``\n",
    "def weights_init(m):\n",
    "    classname = m.__class__.__name__\n",
    "    if classname.find('Conv') != -1:\n",
    "        nn.init.normal_(m.weight.data, 0.0, 0.02)\n",
    "    elif classname.find('BatchNorm') != -1:\n",
    "        nn.init.normal_(m.weight.data, 1.0, 0.02)\n",
    "        nn.init.constant_(m.bias.data, 0)"
   ]
  },
  {
   "cell_type": "code",
   "execution_count": 6,
   "id": "717ba2ac",
   "metadata": {},
   "outputs": [
    {
     "name": "stdout",
     "output_type": "stream",
     "text": [
      "Success, tests passed!\n"
     ]
    }
   ],
   "source": [
    "def test():\n",
    "    N, in_channels, H, W = 8, 3, 64, 64\n",
    "    noise_dim = 100\n",
    "    x = torch.randn((N, in_channels, H, W))\n",
    "    disc = Discriminator(in_channels, 8)\n",
    "    disc.apply(weights_init)\n",
    "    assert disc(x).shape == (N, 1, 1, 1), \"Discriminator test failed\"\n",
    "    gen = Generator(noise_dim, in_channels, 8)\n",
    "    gen.apply(weights_init)\n",
    "    z = torch.randn((N, noise_dim, 1, 1))\n",
    "    assert gen(z).shape == (N, in_channels, H, W), \"Generator test failed\"\n",
    "    print(\"Success, tests passed!\")\n",
    "\n",
    "\n",
    "test()"
   ]
  },
  {
   "cell_type": "code",
   "execution_count": 7,
   "id": "5a9ee089",
   "metadata": {},
   "outputs": [],
   "source": [
    "learning_rate = 0.0002\n",
    "batch_size = 128\n",
    "img_channels = 3\n",
    "img_size = 64\n",
    "latent_space = 100"
   ]
  },
  {
   "cell_type": "code",
   "execution_count": 8,
   "id": "8c2f4c44",
   "metadata": {},
   "outputs": [],
   "source": [
    "transform = transforms.Compose(\n",
    "    [\n",
    "        transforms.Resize(img_size),\n",
    "        transforms.CenterCrop(img_size),\n",
    "        transforms.ToTensor(),\n",
    "        transforms.Normalize([\n",
    "            0.5 for _ in range(img_channels)],[0.5 for _ in range(img_channels)])\n",
    "    ]\n",
    ")\n",
    "\n",
    "dataset = datasets.ImageFolder(root=\"faces/\", transform=transform)\n",
    "dataloader = DataLoader(dataset, batch_size=batch_size, shuffle=True)\n",
    "\n",
    "gen = Generator(latent_space,img_channels,img_size)\n",
    "disc = Discriminator(img_channels,img_size)\n",
    "\n",
    "gen.apply(weights_init)\n",
    "disc.apply(weights_init)\n",
    "\n",
    "opt_gen = optim.Adam(gen.parameters(),lr=learning_rate,betas=(0.5,0.999))\n",
    "opt_disc = optim.Adam(disc.parameters(),lr=learning_rate,betas=(0.5,0.999))\n",
    "\n",
    "criterion = nn.BCELoss()"
   ]
  },
  {
   "cell_type": "code",
   "execution_count": 8,
   "id": "fd03a568",
   "metadata": {},
   "outputs": [
    {
     "data": {
      "text/plain": [
       "Generator(\n",
       "  (gen): Sequential(\n",
       "    (0): Sequential(\n",
       "      (0): ConvTranspose2d(100, 1024, kernel_size=(4, 4), stride=(1, 1), bias=False)\n",
       "      (1): BatchNorm2d(1024, eps=1e-05, momentum=0.1, affine=True, track_running_stats=True)\n",
       "      (2): ReLU(inplace=True)\n",
       "    )\n",
       "    (1): Sequential(\n",
       "      (0): ConvTranspose2d(1024, 512, kernel_size=(4, 4), stride=(2, 2), padding=(1, 1), bias=False)\n",
       "      (1): BatchNorm2d(512, eps=1e-05, momentum=0.1, affine=True, track_running_stats=True)\n",
       "      (2): ReLU(inplace=True)\n",
       "    )\n",
       "    (2): Sequential(\n",
       "      (0): ConvTranspose2d(512, 256, kernel_size=(4, 4), stride=(2, 2), padding=(1, 1), bias=False)\n",
       "      (1): BatchNorm2d(256, eps=1e-05, momentum=0.1, affine=True, track_running_stats=True)\n",
       "      (2): ReLU(inplace=True)\n",
       "    )\n",
       "    (3): Sequential(\n",
       "      (0): ConvTranspose2d(256, 128, kernel_size=(4, 4), stride=(2, 2), padding=(1, 1), bias=False)\n",
       "      (1): BatchNorm2d(128, eps=1e-05, momentum=0.1, affine=True, track_running_stats=True)\n",
       "      (2): ReLU(inplace=True)\n",
       "    )\n",
       "    (4): ConvTranspose2d(128, 3, kernel_size=(4, 4), stride=(2, 2), padding=(1, 1), bias=False)\n",
       "    (5): Tanh()\n",
       "  )\n",
       ")"
      ]
     },
     "execution_count": 8,
     "metadata": {},
     "output_type": "execute_result"
    }
   ],
   "source": [
    "gen.train()"
   ]
  },
  {
   "cell_type": "code",
   "execution_count": 9,
   "id": "dc15dea2",
   "metadata": {},
   "outputs": [
    {
     "data": {
      "text/plain": [
       "Discriminator(\n",
       "  (disc): Sequential(\n",
       "    (0): Conv2d(3, 64, kernel_size=(4, 4), stride=(2, 2), padding=(1, 1))\n",
       "    (1): LeakyReLU(negative_slope=0.2)\n",
       "    (2): Sequential(\n",
       "      (0): Conv2d(64, 128, kernel_size=(4, 4), stride=(2, 2), padding=(1, 1), bias=False)\n",
       "      (1): BatchNorm2d(128, eps=1e-05, momentum=0.1, affine=True, track_running_stats=True)\n",
       "      (2): LeakyReLU(negative_slope=0.2)\n",
       "    )\n",
       "    (3): Sequential(\n",
       "      (0): Conv2d(128, 256, kernel_size=(4, 4), stride=(2, 2), padding=(1, 1), bias=False)\n",
       "      (1): BatchNorm2d(256, eps=1e-05, momentum=0.1, affine=True, track_running_stats=True)\n",
       "      (2): LeakyReLU(negative_slope=0.2)\n",
       "    )\n",
       "    (4): Sequential(\n",
       "      (0): Conv2d(256, 512, kernel_size=(4, 4), stride=(2, 2), padding=(1, 1), bias=False)\n",
       "      (1): BatchNorm2d(512, eps=1e-05, momentum=0.1, affine=True, track_running_stats=True)\n",
       "      (2): LeakyReLU(negative_slope=0.2)\n",
       "    )\n",
       "    (5): Conv2d(512, 1, kernel_size=(4, 4), stride=(2, 2), bias=False)\n",
       "    (6): Sigmoid()\n",
       "  )\n",
       ")"
      ]
     },
     "execution_count": 9,
     "metadata": {},
     "output_type": "execute_result"
    }
   ],
   "source": [
    "disc.train()"
   ]
  },
  {
   "cell_type": "code",
   "execution_count": null,
   "id": "c8bd6143",
   "metadata": {},
   "outputs": [
    {
     "name": "stdout",
     "output_type": "stream",
     "text": [
      "Epoch [0/25] Batch 0/29                       Loss D: 1.7807, loss G: 8.0673\n",
      "Epoch [1/25] Batch 0/29                       Loss D: 0.0584, loss G: 7.1107\n",
      "Epoch [2/25] Batch 0/29                       Loss D: 1.0275, loss G: 5.7869\n"
     ]
    }
   ],
   "source": [
    "num_epochs = 25\n",
    "fixed_noise = torch.randn(32,latent_space,1,1)\n",
    "G_losses = []\n",
    "D_losses = []\n",
    "writer_fake = SummaryWriter(f\"logs/fake\")\n",
    "writer_real = SummaryWriter(f\"logs/real\")\n",
    "step = 0\n",
    "\n",
    "for epoch in range(num_epochs):\n",
    "    for batch_idx,(image,_) in enumerate(dataloader):\n",
    "        img = image\n",
    "        noise = torch.randn(batch_size,latent_space,1,1)\n",
    "        fake_img = gen(noise)\n",
    "        \n",
    "        ### Train Discriminator: max log(D(x)) + log(1 - D(G(z)))\n",
    "        real_img = disc(img).reshape(-1)\n",
    "        loss_disc_real = criterion(real_img, torch.ones_like(real_img))\n",
    "        \n",
    "        fake_batch_img = disc(fake_img.detach()).reshape(-1)\n",
    "        loss_disc_fake = criterion(fake_batch_img, torch.zeros_like(fake_batch_img))\n",
    "        \n",
    "        loss_disc = (loss_disc_real+loss_disc_fake)\n",
    "        \n",
    "        disc.zero_grad()\n",
    "        loss_disc.backward()\n",
    "        opt_disc.step()\n",
    "        \n",
    "        ### Train Generator: min log(1 - D(G(z))) <-> max log(D(G(z))\n",
    "        # where the second option of maximizing doesn't suffer from\n",
    "        # saturating gradients\n",
    "        lossGf = disc(fake_img)\n",
    "        loss_gen = criterion(lossGf, torch.ones_like(lossGf))\n",
    "        \n",
    "        gen.zero_grad()\n",
    "        loss_gen.backward()\n",
    "        opt_gen.step()\n",
    "        \n",
    "        if batch_idx == 0:\n",
    "            print(\n",
    "                f\"Epoch [{epoch}/{num_epochs}] Batch {batch_idx}/{len(dataloader)} \\\n",
    "                      Loss D: {loss_disc:.4f}, loss G: {loss_gen:.4f}\"\n",
    "            )\n",
    "\n",
    "            with torch.no_grad():\n",
    "                fake = gen(fixed_noise)\n",
    "                data = img\n",
    "                img_grid_fake = torchvision.utils.make_grid(fake[:32], normalize=True)\n",
    "                img_grid_real = torchvision.utils.make_grid(data[:32], normalize=True)\n",
    "\n",
    "                writer_fake.add_image(\n",
    "                    \"Mnist Fake Images\", img_grid_fake, global_step=step\n",
    "                )\n",
    "                writer_real.add_image(\n",
    "                    \"Mnist Real Images\", img_grid_real, global_step=step\n",
    "                )\n",
    "                step += 1\n",
    "                \n",
    "        # Save Losses for plotting later\n",
    "        G_losses.append(loss_gen.item())\n",
    "        D_losses.append(loss_disc.item())"
   ]
  },
  {
   "cell_type": "code",
   "execution_count": null,
   "id": "5f992aed",
   "metadata": {},
   "outputs": [],
   "source": [
    "import matplotlib.pyplot as plt\n",
    "\n",
    "plt.figure(figsize=(10,5))\n",
    "plt.title(\"Generator and Discriminator Loss During Training\")\n",
    "plt.plot(loss_disc.item(),label=\"G\")\n",
    "plt.plot(loss_gen.item(),label=\"D\")\n",
    "plt.xlabel(\"iterations\")\n",
    "plt.ylabel(\"Loss\")\n",
    "plt.legend()\n",
    "plt.show()"
   ]
  },
  {
   "cell_type": "code",
   "execution_count": 10,
   "id": "b2075ffa",
   "metadata": {},
   "outputs": [
    {
     "data": {
      "text/plain": [
       "tensor([[[[[ 0.0015, -0.0650,  0.0291,  ..., -0.0329, -0.0734, -0.0184],\n",
       "           [ 0.0147, -0.0254, -0.0574,  ..., -0.2552, -0.2218, -0.0912],\n",
       "           [-0.1322,  0.0822, -0.1090,  ..., -0.0402, -0.0705, -0.0248],\n",
       "           ...,\n",
       "           [-0.0220, -0.2041, -0.1276,  ..., -0.1211, -0.0631, -0.1005],\n",
       "           [-0.0555, -0.0842, -0.0689,  ..., -0.1241, -0.0833, -0.1019],\n",
       "           [-0.0493, -0.0321, -0.0978,  ..., -0.1399, -0.1012, -0.0628]],\n",
       "\n",
       "          [[-0.0132,  0.0393, -0.0294,  ...,  0.0368, -0.0941, -0.0429],\n",
       "           [ 0.1326, -0.1199,  0.0807,  ...,  0.0595,  0.1181, -0.0045],\n",
       "           [-0.0945,  0.2056, -0.1827,  ...,  0.2465, -0.0793,  0.0847],\n",
       "           ...,\n",
       "           [ 0.0091, -0.1041,  0.1269,  ...,  0.0038,  0.0908, -0.1001],\n",
       "           [-0.1286,  0.0252, -0.0421,  ...,  0.3443, -0.1552,  0.0713],\n",
       "           [ 0.0145,  0.0507,  0.0872,  ..., -0.0355,  0.0273, -0.0061]],\n",
       "\n",
       "          [[-0.0238,  0.1001, -0.0896,  ..., -0.0423, -0.0792,  0.0986],\n",
       "           [ 0.1867, -0.2263,  0.0616,  ..., -0.1257, -0.0405, -0.0017],\n",
       "           [ 0.0707,  0.0652, -0.0721,  ...,  0.0872, -0.1983, -0.0537],\n",
       "           ...,\n",
       "           [ 0.0788, -0.2848,  0.2357,  ..., -0.1493,  0.1866,  0.0105],\n",
       "           [-0.1436,  0.1434, -0.0060,  ...,  0.0279, -0.2633,  0.0181],\n",
       "           [ 0.0317, -0.1410,  0.0729,  ..., -0.1744,  0.1182, -0.0737]]]]],\n",
       "       grad_fn=<UnsqueezeBackward0>)"
      ]
     },
     "execution_count": 10,
     "metadata": {},
     "output_type": "execute_result"
    }
   ],
   "source": [
    "n = torch.randn(1,100,1,1)\n",
    "fa = gen(n)\n",
    "fake = fa.unsqueeze(1)\n",
    "fake\n",
    "# transform = transforms.ToPILImage()\n",
    "# img = transform(fake)\n",
    "# img.show()"
   ]
  },
  {
   "cell_type": "code",
   "execution_count": null,
   "id": "d0b942e6",
   "metadata": {},
   "outputs": [],
   "source": [
    "torch.save({\n",
    "            'epoch': num_epochs,\n",
    "            'model_state_dict': gen.state_dict(),\n",
    "            'optimizer_state_dict': opt_gen.state_dict(),\n",
    "            'loss': loss_gen\n",
    "            }, f=\"gen_model/\")"
   ]
  },
  {
   "cell_type": "code",
   "execution_count": null,
   "id": "7b1f49d4",
   "metadata": {},
   "outputs": [],
   "source": [
    "torch.save({\n",
    "            'epoch': num_epochs,\n",
    "            'model_state_dict': disc.state_dict(),\n",
    "            'optimizer_state_dict': opt_disc.state_dict(),\n",
    "            'loss': loss_disc,\n",
    "            ...\n",
    "            }, \"disc_model/\")"
   ]
  }
 ],
 "metadata": {
  "kernelspec": {
   "display_name": ".joker",
   "language": "python",
   "name": ".joker"
  },
  "language_info": {
   "codemirror_mode": {
    "name": "ipython",
    "version": 3
   },
   "file_extension": ".py",
   "mimetype": "text/x-python",
   "name": "python",
   "nbconvert_exporter": "python",
   "pygments_lexer": "ipython3",
   "version": "3.10.12"
  }
 },
 "nbformat": 4,
 "nbformat_minor": 5
}
