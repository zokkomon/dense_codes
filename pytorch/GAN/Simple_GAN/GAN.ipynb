{
 "cells": [
  {
   "cell_type": "code",
   "execution_count": 8,
   "id": "aaea8f3f",
   "metadata": {},
   "outputs": [],
   "source": [
    "import torch\n",
    "from torch import nn,save,load\n",
    "import torch.optim as optim\n",
    "import torchvision\n",
    "import torchvision.datasets as datasets\n",
    "from torch.utils.data import DataLoader\n",
    "import torchvision.transforms as transforms\n",
    "from torch.utils.tensorboard import SummaryWriter  # to print to tensorboard"
   ]
  },
  {
   "cell_type": "code",
   "execution_count": 9,
   "id": "b79e994c",
   "metadata": {},
   "outputs": [],
   "source": [
    "# def Datasets(images_dir):\n",
    "#     ids = os.walk(images_dir)\n",
    "\n",
    "#     for root,_,files in ids:\n",
    "#         images = files\n",
    "\n",
    "#     return files"
   ]
  },
  {
   "cell_type": "code",
   "execution_count": 10,
   "id": "fee4cc1d",
   "metadata": {},
   "outputs": [],
   "source": [
    "class Discriminator(nn.Module):\n",
    "    def __init__(self,img_dim):\n",
    "        super().__init__()\n",
    "        self.disc = nn.Sequential(\n",
    "            nn.Linear(img_dim,128),\n",
    "            nn.LeakyReLU(0.01),\n",
    "            nn.Linear(128,1),\n",
    "            nn.Sigmoid(),\n",
    "        )\n",
    "        \n",
    "    def forward(self,x):\n",
    "        return self.disc(x)"
   ]
  },
  {
   "cell_type": "code",
   "execution_count": 11,
   "id": "6f51ba27",
   "metadata": {},
   "outputs": [],
   "source": [
    "class Generator(nn.Module):\n",
    "    def __init__(self,latent_space,img_dim):\n",
    "        super().__init__()\n",
    "        self.gen = nn.Sequential(\n",
    "            nn.Linear(latent_space,256),\n",
    "            nn.LeakyReLU(0.01),\n",
    "            nn.Linear(256,img_dim),\n",
    "            nn.Tanh(),\n",
    "        )\n",
    "        \n",
    "    def forward(self,x):\n",
    "        return self.gen(x)"
   ]
  },
  {
   "cell_type": "code",
   "execution_count": 12,
   "id": "005d5750",
   "metadata": {},
   "outputs": [],
   "source": [
    "# device =\"cuda\" if torch.cuda.is_available() else \"cpu\"\n",
    "lr = 3e-4\n",
    "latent_space = 64\n",
    "img_dim = 28*28*1 #784\n",
    "batch_size = 32\n",
    "num_epochs = 50"
   ]
  },
  {
   "cell_type": "code",
   "execution_count": 13,
   "id": "c2d0843e",
   "metadata": {},
   "outputs": [],
   "source": [
    "disc = Discriminator(img_dim)\n",
    "gen = Generator(latent_space,img_dim)\n",
    "\n",
    "fixed_noise = torch.randn((batch_size,latent_space))\n",
    "transform = transforms.Compose([transforms.ToTensor(), transforms.Normalize((0.5,), (0.5,))])\n",
    "# dataset = Datasets(\"sketch_data/\")\n",
    "# dataset = transforms(dataset)\n",
    "dataset = datasets.MNIST(root=\"dataset/\",transform=transform,download=True)\n",
    "loader = DataLoader(dataset, batch_size=batch_size, shuffle=True)\n",
    "opt_disc = optim.Adam(disc.parameters(), lr=lr)\n",
    "opt_gen = optim.Adam(gen.parameters(), lr=lr)\n",
    "criterion = nn.BCELoss()\n",
    "writer_fake = SummaryWriter(f\"logs/fake\")\n",
    "writer_real = SummaryWriter(f\"logs/real\")\n",
    "step = 0"
   ]
  },
  {
   "cell_type": "code",
   "execution_count": 7,
   "id": "8001388f",
   "metadata": {},
   "outputs": [
    {
     "name": "stdout",
     "output_type": "stream",
     "text": [
      "Epoch [0/50] Batch 0/1875                       Loss D: 0.7428, loss G: 0.7183\n",
      "Epoch [1/50] Batch 0/1875                       Loss D: 0.8357, loss G: 0.6414\n",
      "Epoch [2/50] Batch 0/1875                       Loss D: 0.5721, loss G: 0.9530\n",
      "Epoch [3/50] Batch 0/1875                       Loss D: 0.3231, loss G: 1.3407\n",
      "Epoch [4/50] Batch 0/1875                       Loss D: 0.5618, loss G: 0.9178\n",
      "Epoch [5/50] Batch 0/1875                       Loss D: 0.7799, loss G: 0.8814\n",
      "Epoch [6/50] Batch 0/1875                       Loss D: 0.5339, loss G: 1.0777\n",
      "Epoch [7/50] Batch 0/1875                       Loss D: 0.4411, loss G: 0.9901\n",
      "Epoch [8/50] Batch 0/1875                       Loss D: 0.7815, loss G: 0.8611\n",
      "Epoch [9/50] Batch 0/1875                       Loss D: 0.7711, loss G: 0.8101\n",
      "Epoch [10/50] Batch 0/1875                       Loss D: 0.6487, loss G: 0.7367\n",
      "Epoch [11/50] Batch 0/1875                       Loss D: 0.5998, loss G: 0.9511\n",
      "Epoch [12/50] Batch 0/1875                       Loss D: 0.4285, loss G: 1.1239\n",
      "Epoch [13/50] Batch 0/1875                       Loss D: 0.3549, loss G: 1.9155\n",
      "Epoch [14/50] Batch 0/1875                       Loss D: 0.4060, loss G: 2.0314\n",
      "Epoch [15/50] Batch 0/1875                       Loss D: 0.7142, loss G: 1.8527\n",
      "Epoch [16/50] Batch 0/1875                       Loss D: 0.6338, loss G: 1.5570\n",
      "Epoch [17/50] Batch 0/1875                       Loss D: 0.5486, loss G: 1.6251\n",
      "Epoch [18/50] Batch 0/1875                       Loss D: 0.5936, loss G: 1.6361\n",
      "Epoch [19/50] Batch 0/1875                       Loss D: 0.5225, loss G: 1.7295\n",
      "Epoch [20/50] Batch 0/1875                       Loss D: 0.4769, loss G: 1.6828\n",
      "Epoch [21/50] Batch 0/1875                       Loss D: 0.5688, loss G: 1.2393\n",
      "Epoch [22/50] Batch 0/1875                       Loss D: 0.4887, loss G: 1.1882\n",
      "Epoch [23/50] Batch 0/1875                       Loss D: 0.6671, loss G: 1.6850\n",
      "Epoch [24/50] Batch 0/1875                       Loss D: 0.6013, loss G: 1.2927\n",
      "Epoch [25/50] Batch 0/1875                       Loss D: 0.5983, loss G: 1.5996\n",
      "Epoch [26/50] Batch 0/1875                       Loss D: 0.5385, loss G: 1.4115\n",
      "Epoch [27/50] Batch 0/1875                       Loss D: 0.5716, loss G: 1.2456\n",
      "Epoch [28/50] Batch 0/1875                       Loss D: 0.4961, loss G: 1.4038\n",
      "Epoch [29/50] Batch 0/1875                       Loss D: 0.4690, loss G: 1.7963\n",
      "Epoch [30/50] Batch 0/1875                       Loss D: 0.5419, loss G: 1.1569\n",
      "Epoch [31/50] Batch 0/1875                       Loss D: 0.4918, loss G: 1.4345\n",
      "Epoch [32/50] Batch 0/1875                       Loss D: 0.6200, loss G: 0.9318\n",
      "Epoch [33/50] Batch 0/1875                       Loss D: 0.3805, loss G: 1.3501\n",
      "Epoch [34/50] Batch 0/1875                       Loss D: 0.6335, loss G: 1.1341\n",
      "Epoch [35/50] Batch 0/1875                       Loss D: 0.5749, loss G: 1.0887\n",
      "Epoch [36/50] Batch 0/1875                       Loss D: 0.5409, loss G: 1.3114\n",
      "Epoch [37/50] Batch 0/1875                       Loss D: 0.4752, loss G: 1.0534\n",
      "Epoch [38/50] Batch 0/1875                       Loss D: 0.5306, loss G: 1.5266\n",
      "Epoch [39/50] Batch 0/1875                       Loss D: 0.6294, loss G: 1.2215\n",
      "Epoch [40/50] Batch 0/1875                       Loss D: 0.5720, loss G: 1.0864\n",
      "Epoch [41/50] Batch 0/1875                       Loss D: 0.5195, loss G: 1.1710\n",
      "Epoch [42/50] Batch 0/1875                       Loss D: 0.6452, loss G: 0.8524\n",
      "Epoch [43/50] Batch 0/1875                       Loss D: 0.5763, loss G: 1.4404\n",
      "Epoch [44/50] Batch 0/1875                       Loss D: 0.5216, loss G: 1.4111\n",
      "Epoch [45/50] Batch 0/1875                       Loss D: 0.4624, loss G: 1.3819\n",
      "Epoch [46/50] Batch 0/1875                       Loss D: 0.4996, loss G: 1.1267\n",
      "Epoch [47/50] Batch 0/1875                       Loss D: 0.6142, loss G: 1.1724\n",
      "Epoch [48/50] Batch 0/1875                       Loss D: 0.5600, loss G: 1.5067\n",
      "Epoch [49/50] Batch 0/1875                       Loss D: 0.4253, loss G: 1.3305\n"
     ]
    }
   ],
   "source": [
    "for epoch in range(num_epochs):\n",
    "    for batch_idx, (img, _) in enumerate(loader):\n",
    "        img = img.view(-1, 784)\n",
    "        batch_size = img.shape[0]\n",
    "\n",
    "        ### Train Discriminator: max log(D(x)) + log(1 - D(G(z)))\n",
    "        noise = torch.randn(batch_size, latent_space)\n",
    "        f_img = gen(noise)\n",
    "        r_img = disc(img).view(-1)\n",
    "        lossD_img = criterion(r_img,torch.ones_like(r_img))\n",
    "        f_img = disc(f_img).view(-1)\n",
    "        lossD_fimg = criterion(f_img,torch.zeros_like(r_img))\n",
    "        lossD = (lossD_img+lossD_fimg)/2\n",
    "        disc.zero_grad()\n",
    "        lossD.backward(retain_graph=True)\n",
    "        opt_disc.step()\n",
    "\n",
    "        ### Train Generator: min log(1 - D(G(z))) <-> max log(D(G(z))\n",
    "        # where the second option of maximizing doesn't suffer from\n",
    "        # saturating gradients\n",
    "        noise = torch.randn(batch_size, latent_space)\n",
    "        f_img = gen(noise)\n",
    "        lossGf = disc(f_img).view(-1)\n",
    "        lossG = criterion(lossGf, torch.ones_like(lossGf))\n",
    "        gen.zero_grad()\n",
    "        lossG.backward()\n",
    "        opt_gen.step()\n",
    "        \n",
    "        if batch_idx == 0:\n",
    "            print(\n",
    "                f\"Epoch [{epoch}/{num_epochs}] Batch {batch_idx}/{len(loader)} \\\n",
    "                      Loss D: {lossD:.4f}, loss G: {lossG:.4f}\"\n",
    "            )\n",
    "\n",
    "            with torch.no_grad():\n",
    "                fake = gen(fixed_noise).reshape(-1, 1, 28, 28)\n",
    "                data = img.reshape(-1, 1, 28, 28)\n",
    "                img_grid_fake = torchvision.utils.make_grid(fake, normalize=True)\n",
    "                img_grid_real = torchvision.utils.make_grid(data, normalize=True)\n",
    "\n",
    "                writer_fake.add_image(\n",
    "                    \"Mnist Fake Images\", img_grid_fake, global_step=step\n",
    "                )\n",
    "                writer_real.add_image(\n",
    "                    \"Mnist Real Images\", img_grid_real, global_step=step\n",
    "                )\n",
    "                step += 1"
   ]
  },
  {
   "cell_type": "code",
   "execution_count": 18,
   "id": "9cdb6eed",
   "metadata": {},
   "outputs": [],
   "source": [
    "# with open('gan_disc.pt', 'wb') as f: \n",
    "#     save(disc.state_dict(), f) "
   ]
  },
  {
   "cell_type": "code",
   "execution_count": null,
   "id": "6c213c18",
   "metadata": {},
   "outputs": [],
   "source": [
    "# with open('gan_gen.pt', 'wb') as f: \n",
    "#     save(gen.state_dict(), f) "
   ]
  },
  {
   "cell_type": "code",
   "execution_count": 8,
   "id": "74179d12",
   "metadata": {},
   "outputs": [],
   "source": [
    "with open('gan_disc.pt', 'rb') as f: \n",
    "    disc.load_state_dict(load(f))"
   ]
  },
  {
   "cell_type": "code",
   "execution_count": 14,
   "id": "3628ff7e",
   "metadata": {},
   "outputs": [],
   "source": [
    "with open('gan_gen.pt', 'rb') as f: \n",
    "    gen.load_state_dict(load(f))"
   ]
  },
  {
   "cell_type": "code",
   "execution_count": 15,
   "id": "e847c1e5",
   "metadata": {},
   "outputs": [],
   "source": [
    "noise = torch.randn(latent_space)\n",
    "fa = gen(noise).reshape(28,28)\n",
    "transform = transforms.ToPILImage()\n",
    "img = transform(fa)\n",
    "img.show()"
   ]
  },
  {
   "cell_type": "code",
   "execution_count": 14,
   "id": "09027ae8",
   "metadata": {},
   "outputs": [
    {
     "data": {
      "image/png": "[encoded data removed]",
      "text/plain": [
       "<PIL.Image.Image image mode=L size=28x28>"
      ]
     },
     "execution_count": 14,
     "metadata": {},
     "output_type": "execute_result"
    }
   ],
   "source": [
    "img"
   ]
  },
  {
   "cell_type": "code",
   "execution_count": 15,
   "id": "f1027d8f",
   "metadata": {},
   "outputs": [
    {
     "data": {
      "text/plain": [
       "tensor([0.4886], grad_fn=<SigmoidBackward0>)"
      ]
     },
     "execution_count": 15,
     "metadata": {},
     "output_type": "execute_result"
    }
   ],
   "source": [
    "img_tensor = transforms.ToTensor()(img).unsqueeze(0)\n",
    "img_tensor = img_tensor.view(-1)\n",
    "rl = disc(img_tensor)\n",
    "rl"
   ]
  },
  {
   "cell_type": "code",
   "execution_count": null,
   "id": "48745d97",
   "metadata": {},
   "outputs": [],
   "source": []
  }
 ],
 "metadata": {
  "kernelspec": {
   "display_name": ".joker",
   "language": "python",
   "name": ".joker"
  },
  "language_info": {
   "codemirror_mode": {
    "name": "ipython",
    "version": 3
   },
   "file_extension": ".py",
   "mimetype": "text/x-python",
   "name": "python",
   "nbconvert_exporter": "python",
   "pygments_lexer": "ipython3",
   "version": "3.10.12"
  }
 },
 "nbformat": 4,
 "nbformat_minor": 5
}
