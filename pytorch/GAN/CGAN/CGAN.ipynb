{
 "cells": [
  {
   "cell_type": "code",
   "execution_count": 1,
   "id": "e3904dba",
   "metadata": {},
   "outputs": [
    {
     "name": "stderr",
     "output_type": "stream",
     "text": [
      "2023-07-17 20:03:45.919966: I tensorflow/core/platform/cpu_feature_guard.cc:193] This TensorFlow binary is optimized with oneAPI Deep Neural Network Library (oneDNN) to use the following CPU instructions in performance-critical operations:  AVX2 FMA\n",
      "To enable them in other operations, rebuild TensorFlow with the appropriate compiler flags.\n"
     ]
    }
   ],
   "source": [
    "import torch\n",
    "import torch.nn as nn\n",
    "import torch.optim as optim\n",
    "import torchvision\n",
    "import torchvision.transforms as transforms\n",
    "import torchvision.datasets as datasets\n",
    "from torch.utils.data import DataLoader\n",
    "from torch.utils.tensorboard import SummaryWriter"
   ]
  },
  {
   "cell_type": "code",
   "execution_count": 2,
   "id": "c615c7ca",
   "metadata": {},
   "outputs": [
    {
     "data": {
      "text/plain": [
       "'Radeon RX 560 Series'"
      ]
     },
     "execution_count": 2,
     "metadata": {},
     "output_type": "execute_result"
    }
   ],
   "source": [
    " torch.cuda.get_device_name(0)"
   ]
  },
  {
   "cell_type": "code",
   "execution_count": 3,
   "id": "b30f4f30",
   "metadata": {},
   "outputs": [],
   "source": [
    "class Discriminator(nn.Module):\n",
    "    def __init__(self,img_channels,filters_size,num_classes,img_size):\n",
    "        super(Discriminator,self).__init__()\n",
    "        self.img_size = img_size\n",
    "        self.disc = nn.Sequential(\n",
    "            # input: N x channels_img x 64 x 64\n",
    "            nn.Conv2d(\n",
    "                img_channels+1,filters_size,kernel_size=4,stride=2,padding=1\n",
    "            ), # 32*32\n",
    "            nn.LeakyReLU(0.2),\n",
    "            self._block(filters_size,filters_size*2,4,2,1), #16*16\n",
    "            self._block(filters_size*2,filters_size*4,4,2,1), #8*8\n",
    "            self._block(filters_size*4,filters_size*8,4,2,1), #4*4\n",
    "            nn.Conv2d(filters_size*8, 1, kernel_size=4, stride=2, padding=0, bias=False),#1*1\n",
    "        )\n",
    "        self.embed = nn.Embedding(num_classes, img_size*img_size)\n",
    "        \n",
    "    def _block(self,in_channels,out_channels,kernel_size,stride,padding):\n",
    "        return nn.Sequential(\n",
    "        nn.Conv2d(in_channels,\n",
    "                  out_channels,\n",
    "                  kernel_size,\n",
    "                  stride,\n",
    "                  padding,\n",
    "                  bias=False),\n",
    "        nn.InstanceNorm2d(out_channels,affine=True),\n",
    "        nn.LeakyReLU(0.2)\n",
    "        )\n",
    "    \n",
    "    def forward(self,x, labels):\n",
    "        # N x C X img_size(h) x img_size(w)\n",
    "        embedding = self.embed(labels).view(labels.shape[0], 1, self.img_size, self.img_size)\n",
    "        x = torch.cat([x, embedding], dim=1)\n",
    "        return self.disc(x)"
   ]
  },
  {
   "cell_type": "code",
   "execution_count": 4,
   "id": "169ac076",
   "metadata": {},
   "outputs": [],
   "source": [
    "class Generator(nn.Module):\n",
    "    def __init__(self,latent_space,img_channels,filter_size,num_classes,img_size,embed_size):\n",
    "        super(Generator,self).__init__()\n",
    "        self.img_size = img_size\n",
    "        self.gen = nn.Sequential(\n",
    "            # Input n*latent_space*1*1\n",
    "            self._block(latent_space+embed_size,filter_size*16,4,1,0), #n*f_g*16*4*4\n",
    "            self._block(filter_size*16,filter_size*8,4,2,1), #8\n",
    "            self._block(filter_size*8,filter_size*4,4,2,1), #16\n",
    "            self._block(filter_size*4,filter_size*2,4,2,1), #32\n",
    "            nn.ConvTranspose2d(\n",
    "                filter_size*2, img_channels, kernel_size=4, stride=2, padding=1, bias=False\n",
    "            ),\n",
    "            # Output: N x channels_img x 64 x 64\n",
    "            nn.Tanh() #[-1,1]\n",
    "        )\n",
    "        self.embed = nn.Embedding(num_classes,embed_size)\n",
    "        \n",
    "    def _block(self,in_channels,out_channels,kernel_size,stride,padding):\n",
    "        return nn.Sequential(\n",
    "        nn.ConvTranspose2d(in_channels,\n",
    "                  out_channels,\n",
    "                  kernel_size,\n",
    "                  stride,\n",
    "                  padding,\n",
    "                  bias=False),\n",
    "        nn.BatchNorm2d(out_channels),\n",
    "        nn.ReLU(0.2)\n",
    "        )\n",
    "    \n",
    "    def forward(self,x, labels):\n",
    "        # latent vector x: N x noise_channels x img_size(h) x img_size(h)\n",
    "        embedding = self.embed(labels).unsqueeze(2).unsqueeze(3)\n",
    "        x = torch.cat([x,embedding], dim=1)\n",
    "        return self.gen(x)"
   ]
  },
  {
   "cell_type": "code",
   "execution_count": 5,
   "id": "6f04dfda",
   "metadata": {},
   "outputs": [],
   "source": [
    "def gradient_penalty(critic,labels,image,fake_image):\n",
    "    batch_size, C, H, W = image.shape\n",
    "    eplison = torch.rand((batch_size, 1, 1, 1)).repeat(1, C, H, W)\n",
    "    interpolated_images = image * eplison + fake_image * (1 - eplison)\n",
    "   \n",
    "    #calculate the critic scores\n",
    "    mixed_scores = critic(interpolated_images, labels)\n",
    "    \n",
    "    gradient = torch.autograd.grad(\n",
    "        inputs = interpolated_images,\n",
    "        outputs = mixed_scores,\n",
    "        grad_outputs = torch.ones_like(mixed_scores),\n",
    "        create_graph=True,\n",
    "        retain_graph=True\n",
    "    )[0]\n",
    "    \n",
    "    gradient = gradient.view(gradient.shape[0],-1)\n",
    "    gradient_norm = gradient.norm(2,dim=1)\n",
    "    gradient_penalty = torch.mean((gradient_norm-1)**2)\n",
    "    return gradient_penalty"
   ]
  },
  {
   "cell_type": "code",
   "execution_count": 6,
   "id": "c75c1667",
   "metadata": {},
   "outputs": [],
   "source": [
    "# custom weights initialization called on ``netG`` and ``netD``\n",
    "def weights_init(m):\n",
    "    classname = m.__class__.__name__\n",
    "    if classname.find('Conv') != -1:\n",
    "        nn.init.normal_(m.weight.data, 0.0, 0.02)\n",
    "    elif classname.find('BatchNorm') != -1:\n",
    "        nn.init.normal_(m.weight.data, 1.0, 0.02)\n",
    "        nn.init.constant_(m.bias.data, 0)"
   ]
  },
  {
   "cell_type": "code",
   "execution_count": 7,
   "id": "717ba2ac",
   "metadata": {},
   "outputs": [],
   "source": [
    "# def test():\n",
    "#     N, in_channels, H, W = 8, 3, 64, 64\n",
    "#     noise_dim = 100\n",
    "#     x = torch.randn((N, in_channels, H, W))\n",
    "#     critic = Discriminator(in_channels, 8)\n",
    "#     critic.apply(weights_init)\n",
    "#     assert critic(x).shape == (N, 1, 1, 1), \"discriminator test failed\"\n",
    "#     gen = Generator(noise_dim, in_channels, 8)\n",
    "#     gen.apply(weights_init)\n",
    "#     z = torch.randn((N, noise_dim, 1, 1))\n",
    "#     assert gen(z).shape == (N, in_channels, H, W), \"Generator test failed\"\n",
    "#     print(\"Success, tests passed!\")\n",
    "\n",
    "\n",
    "# test()"
   ]
  },
  {
   "cell_type": "code",
   "execution_count": 8,
   "id": "5a9ee089",
   "metadata": {},
   "outputs": [],
   "source": [
    "learning_rate = 1e-4\n",
    "batch_size = 64\n",
    "img_channels = 1\n",
    "img_size = 64\n",
    "num_classes = 10\n",
    "embed_size = 100\n",
    "latent_space = 100\n",
    "filter_size = 64\n",
    "critic_iterations = 5\n",
    "lambdaGP = 10"
   ]
  },
  {
   "cell_type": "code",
   "execution_count": 9,
   "id": "8c2f4c44",
   "metadata": {},
   "outputs": [],
   "source": [
    "transform = transforms.Compose(\n",
    "    [\n",
    "        transforms.Resize(img_size),\n",
    "#         transforms.CenterCrop(img_size),\n",
    "        transforms.ToTensor(),\n",
    "        transforms.Normalize([\n",
    "            0.5 for _ in range(img_channels)],[0.5 for _ in range(img_channels)])\n",
    "    ]\n",
    ")\n",
    "\n",
    "# dataset = datasets.ImageFolder(root=\"faces/\", transform=transform)\n",
    "dataset = datasets.FashionMNIST(root=\"dataset/\",transform=transform,download=True)\n",
    "dataloader = DataLoader(dataset, batch_size=batch_size, shuffle=True)\n",
    "\n",
    "gen = Generator(latent_space,img_channels,filter_size,num_classes,img_size,embed_size)\n",
    "critic = Discriminator(img_channels,filter_size,num_classes,img_size)\n",
    "\n",
    "gen.apply(weights_init)\n",
    "critic.apply(weights_init)\n",
    "\n",
    "opt_gen = optim.Adam(gen.parameters(),lr=learning_rate,betas=(0.0,0.9))\n",
    "opt_critic = optim.Adam(critic.parameters(),lr=learning_rate,betas=(0.0,0.9))"
   ]
  },
  {
   "cell_type": "code",
   "execution_count": 10,
   "id": "fd03a568",
   "metadata": {},
   "outputs": [
    {
     "data": {
      "text/plain": [
       "Generator(\n",
       "  (gen): Sequential(\n",
       "    (0): Sequential(\n",
       "      (0): ConvTranspose2d(200, 1024, kernel_size=(4, 4), stride=(1, 1), bias=False)\n",
       "      (1): BatchNorm2d(1024, eps=1e-05, momentum=0.1, affine=True, track_running_stats=True)\n",
       "      (2): ReLU(inplace=True)\n",
       "    )\n",
       "    (1): Sequential(\n",
       "      (0): ConvTranspose2d(1024, 512, kernel_size=(4, 4), stride=(2, 2), padding=(1, 1), bias=False)\n",
       "      (1): BatchNorm2d(512, eps=1e-05, momentum=0.1, affine=True, track_running_stats=True)\n",
       "      (2): ReLU(inplace=True)\n",
       "    )\n",
       "    (2): Sequential(\n",
       "      (0): ConvTranspose2d(512, 256, kernel_size=(4, 4), stride=(2, 2), padding=(1, 1), bias=False)\n",
       "      (1): BatchNorm2d(256, eps=1e-05, momentum=0.1, affine=True, track_running_stats=True)\n",
       "      (2): ReLU(inplace=True)\n",
       "    )\n",
       "    (3): Sequential(\n",
       "      (0): ConvTranspose2d(256, 128, kernel_size=(4, 4), stride=(2, 2), padding=(1, 1), bias=False)\n",
       "      (1): BatchNorm2d(128, eps=1e-05, momentum=0.1, affine=True, track_running_stats=True)\n",
       "      (2): ReLU(inplace=True)\n",
       "    )\n",
       "    (4): ConvTranspose2d(128, 1, kernel_size=(4, 4), stride=(2, 2), padding=(1, 1), bias=False)\n",
       "    (5): Tanh()\n",
       "  )\n",
       "  (embed): Embedding(10, 100)\n",
       ")"
      ]
     },
     "execution_count": 10,
     "metadata": {},
     "output_type": "execute_result"
    }
   ],
   "source": [
    "gen.train()"
   ]
  },
  {
   "cell_type": "code",
   "execution_count": 11,
   "id": "dc15dea2",
   "metadata": {},
   "outputs": [
    {
     "data": {
      "text/plain": [
       "Discriminator(\n",
       "  (disc): Sequential(\n",
       "    (0): Conv2d(2, 64, kernel_size=(4, 4), stride=(2, 2), padding=(1, 1))\n",
       "    (1): LeakyReLU(negative_slope=0.2)\n",
       "    (2): Sequential(\n",
       "      (0): Conv2d(64, 128, kernel_size=(4, 4), stride=(2, 2), padding=(1, 1), bias=False)\n",
       "      (1): InstanceNorm2d(128, eps=1e-05, momentum=0.1, affine=True, track_running_stats=False)\n",
       "      (2): LeakyReLU(negative_slope=0.2)\n",
       "    )\n",
       "    (3): Sequential(\n",
       "      (0): Conv2d(128, 256, kernel_size=(4, 4), stride=(2, 2), padding=(1, 1), bias=False)\n",
       "      (1): InstanceNorm2d(256, eps=1e-05, momentum=0.1, affine=True, track_running_stats=False)\n",
       "      (2): LeakyReLU(negative_slope=0.2)\n",
       "    )\n",
       "    (4): Sequential(\n",
       "      (0): Conv2d(256, 512, kernel_size=(4, 4), stride=(2, 2), padding=(1, 1), bias=False)\n",
       "      (1): InstanceNorm2d(512, eps=1e-05, momentum=0.1, affine=True, track_running_stats=False)\n",
       "      (2): LeakyReLU(negative_slope=0.2)\n",
       "    )\n",
       "    (5): Conv2d(512, 1, kernel_size=(4, 4), stride=(2, 2), bias=False)\n",
       "  )\n",
       "  (embed): Embedding(10, 4096)\n",
       ")"
      ]
     },
     "execution_count": 11,
     "metadata": {},
     "output_type": "execute_result"
    }
   ],
   "source": [
    "critic.train()"
   ]
  },
  {
   "cell_type": "code",
   "execution_count": null,
   "id": "c8bd6143",
   "metadata": {},
   "outputs": [
    {
     "name": "stdout",
     "output_type": "stream",
     "text": [
      "Epoch [0/25] Batch 0/938                       Loss D: -11.0891, loss G: 9.4285\n"
     ]
    }
   ],
   "source": [
    "num_epochs = 25\n",
    "fixed_noise = torch.randn(32,latent_space,1,1)\n",
    "G_losses = []\n",
    "D_losses = []\n",
    "writer_fake = SummaryWriter(f\"logs/fake\")\n",
    "writer_real = SummaryWriter(f\"logs/real\")\n",
    "step = 0\n",
    "\n",
    "for epoch in range(num_epochs):\n",
    "    for batch_idx,(img,lab) in enumerate(dataloader):\n",
    "        image = img\n",
    "        labels = lab\n",
    "        cur_batch_size = image.shape[0]\n",
    "        \n",
    "        for _ in range(critic_iterations):\n",
    "            noise = torch.randn(cur_batch_size,latent_space,1,1)\n",
    "            fake_image = gen(noise,labels)\n",
    "            \n",
    "            # Train the critic: min −∇θ [(Dw(x(i)) − 1) (Dw(gθ (z(i))+λ*‖∇gθ (z(i)(Dw(gθ (z(i)))‖2 − 1)2]\n",
    "            real_critic = critic(image,labels).reshape(-1)\n",
    "            fake_critic = critic(fake_image,labels).reshape(-1)\n",
    "            gp = gradient_penalty(critic,labels,image,fake_image)\n",
    "            loss_critic = (\n",
    "                -(torch.mean(real_critic)-torch.mean(fake_critic)) + lambdaGP * gp\n",
    "            )\n",
    "\n",
    "            critic.zero_grad()\n",
    "            loss_critic.backward(retain_graph=True)\n",
    "            opt_critic.step()\n",
    "                \n",
    "        # Train the Generator: min −∇θ(Dw(gθ (z(i))\n",
    "        lossGf = critic(fake_image,labels).view(-1)\n",
    "        loss_gen = -(torch.mean(lossGf))\n",
    "\n",
    "        gen.zero_grad()\n",
    "        loss_gen.backward()\n",
    "        opt_gen.step()\n",
    "        \n",
    "        if batch_idx % 100 == 0:\n",
    "            print(\n",
    "                f\"Epoch [{epoch}/{num_epochs}] Batch {batch_idx}/{len(dataloader)} \\\n",
    "                      Loss D: {loss_critic:.4f}, loss G: {loss_gen:.4f}\"\n",
    "            )\n",
    "\n",
    "            with torch.no_grad():\n",
    "                fake = gen(noise,labels)\n",
    "                data = image\n",
    "                img_grid_fake = torchvision.utils.make_grid(fake[:32], normalize=True)\n",
    "                img_grid_real = torchvision.utils.make_grid(data[:32], normalize=True)\n",
    "\n",
    "                writer_fake.add_image(\n",
    "                    \"Manushya Fake Images\", img_grid_fake, global_step=step\n",
    "                )\n",
    "                writer_real.add_image(\n",
    "                    \"Manushya Real Images\", img_grid_real, global_step=step\n",
    "                )\n",
    "                step += 1\n",
    "                \n",
    "        # Save Losses for plotting later\n",
    "        G_losses.append(loss_gen.item())\n",
    "        D_losses.append(loss_critic.item())"
   ]
  },
  {
   "cell_type": "code",
   "execution_count": null,
   "id": "5f992aed",
   "metadata": {},
   "outputs": [],
   "source": [
    "import matplotlib.pyplot as plt\n",
    "\n",
    "plt.figure(figsize=(10,5))\n",
    "plt.title(\"Generator and Discriminator Loss During Training\")\n",
    "plt.plot(loss_disc.item(),label=\"G\")\n",
    "plt.plot(loss_gen.item(),label=\"D\")\n",
    "plt.xlabel(\"iterations\")\n",
    "plt.ylabel(\"Loss\")\n",
    "plt.legend()\n",
    "plt.show()"
   ]
  },
  {
   "cell_type": "code",
   "execution_count": null,
   "id": "b2075ffa",
   "metadata": {},
   "outputs": [],
   "source": [
    "import numpy as np \n",
    "n = torch.randn(1,100,1,1)\n",
    "fa = gen(n)\n",
    "dim1 = fa.unsqueeze(2)\n",
    "dim2 = fa.unsqueeze(3) \n",
    "dim1 = np.array(dim1)\n",
    "# transform = transforms.ToPILImage()\n",
    "# img = transform((dim1,dim2))\n",
    "# img.show()"
   ]
  },
  {
   "cell_type": "code",
   "execution_count": null,
   "id": "d0b942e6",
   "metadata": {},
   "outputs": [],
   "source": [
    "torch.save({\n",
    "            'epoch': num_epochs,\n",
    "            'model_state_dict': gen.state_dict(),\n",
    "            'optimizer_state_dict': opt_gen.state_dict(),\n",
    "            'loss': loss_gen\n",
    "            }, f=\"gen_model/\")"
   ]
  },
  {
   "cell_type": "code",
   "execution_count": null,
   "id": "7b1f49d4",
   "metadata": {},
   "outputs": [],
   "source": [
    "torch.save({\n",
    "            'epoch': num_epochs,\n",
    "            'model_state_dict': disc.state_dict(),\n",
    "            'optimizer_state_dict': opt_disc.state_dict(),\n",
    "            'loss': loss_disc,\n",
    "            ...\n",
    "            }, \"disc_model/\")"
   ]
  },
  {
   "cell_type": "code",
   "execution_count": null,
   "id": "2895565f",
   "metadata": {},
   "outputs": [],
   "source": [
    "def save_checkpoint(state, filename=\"celeba_wgan_gp.pth.tar\"):\n",
    "    print(\"=> Saving checkpoint\")\n",
    "    torch.save(state, filename)\n",
    "\n",
    "\n",
    "def load_checkpoint(checkpoint, gen, disc):\n",
    "    print(\"=> Loading checkpoint\")\n",
    "    gen.load_state_dict(checkpoint['gen'])\n",
    "    disc.load_state_dict(checkpoint['disc'])"
   ]
  }
 ],
 "metadata": {
  "kernelspec": {
   "display_name": ".joker",
   "language": "python",
   "name": ".joker"
  },
  "language_info": {
   "codemirror_mode": {
    "name": "ipython",
    "version": 3
   },
   "file_extension": ".py",
   "mimetype": "text/x-python",
   "name": "python",
   "nbconvert_exporter": "python",
   "pygments_lexer": "ipython3",
   "version": "3.10.6"
  }
 },
 "nbformat": 4,
 "nbformat_minor": 5
}
